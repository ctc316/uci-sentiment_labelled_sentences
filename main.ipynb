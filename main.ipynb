{
 "cells": [
  {
   "cell_type": "code",
   "execution_count": 33,
   "metadata": {},
   "outputs": [],
   "source": [
    "import pandas as pd\n",
    "import numpy as np\n",
    "import string\n",
    "\n",
    "import nltk\n",
    "from nltk.corpus import stopwords\n",
    "from nltk.stem.lancaster import LancasterStemmer\n",
    "\n",
    "from sklearn.model_selection import train_test_split\n",
    "from sklearn.metrics import confusion_matrix\n",
    "from sklearn.linear_model import LogisticRegressionCV"
   ]
  },
  {
   "cell_type": "markdown",
   "metadata": {},
   "source": [
    "## Load data and preprocess"
   ]
  },
  {
   "cell_type": "code",
   "execution_count": 57,
   "metadata": {},
   "outputs": [
    {
     "name": "stdout",
     "output_type": "stream",
     "text": [
      "[nltk_data] Downloading package stopwords to\n",
      "[nltk_data]     /Users/ctc316/nltk_data...\n",
      "[nltk_data]   Package stopwords is already up-to-date!\n",
      "1000 1000\n",
      "1000 1000\n",
      "1000 1000\n",
      "[['wow', 'lov', 'plac'], ['crust', 'good'], ['tasty', 'text', 'nasty'], ['stop', 'lat', 'may', 'bank', 'holiday', 'rick', 'stev', 'recommend', 'lov'], ['select', 'menu', 'gre', 'pric'], ['get', 'angry', 'want', 'damn', 'pho'], ['honesl', 'didnt', 'tast', 'fresh'], ['potato', 'lik', 'rub', 'could', 'tel', 'mad', 'ahead', 'tim', 'kept', 'warm'], ['fri', 'gre'], ['gre', 'touch']] ['1', '0', '0', '1', '1', '0', '0', '0', '1', '1']\n"
     ]
    }
   ],
   "source": [
    "nltk.download('stopwords')\n",
    "stop_words = set(stopwords.words('english'))\n",
    "stemmer = LancasterStemmer()\n",
    "\n",
    "def load_and_clean_data(file): \n",
    "    fstream = open(file,'r')\n",
    "    x = []\n",
    "    y = []\n",
    "    for line in fstream:\n",
    "        line = line.split('\\t')\n",
    "        line[1] = line[1].rstrip()\n",
    "        y.append(line[1])\n",
    "        \n",
    "        # lowercase all of the words and get rid of punctuations\n",
    "        line[0] = line[0].lower().translate(str.maketrans('', '', string.punctuation)).split()\n",
    "        \n",
    "        # lemmatize all the words and get rid of stop words\n",
    "        line[0] = [stemmer.stem(word) for word in line[0] if not word in stop_words]\n",
    "        \n",
    "        x.append(line[0])\n",
    "    \n",
    "    fstream.close()\n",
    "    return x, y\n",
    "\n",
    "\n",
    "x_yelp, y_yelp = load_and_clean_data('data/yelp_labelled.txt')\n",
    "x_amazon, y_amazon = load_and_clean_data('data/amazon_cells_labelled.txt')\n",
    "x_imdb, y_imdb = load_and_clean_data('data/imdb_labelled.txt')\n",
    "\n",
    "print(len(x_yelp), len(y_yelp))\n",
    "print(len(x_amazon), len(y_amazon))\n",
    "print(len(x_imdb), len(y_imdb))\n",
    "\n",
    "print(x_yelp[:10], y_yelp[:10])"
   ]
  },
  {
   "cell_type": "markdown",
   "metadata": {},
   "source": [
    "## Split into 2 half set and both have test and training data for 1 : 4"
   ]
  },
  {
   "cell_type": "code",
   "execution_count": 38,
   "metadata": {},
   "outputs": [
    {
     "name": "stdout",
     "output_type": "stream",
     "text": [
      "data set 1: 1200 300 1200 300\n",
      "data set 2: 1200 300 1200 300\n"
     ]
    }
   ],
   "source": [
    "def data_split(xs, ys):\n",
    "    x_train = []\n",
    "    x_test = []\n",
    "    y_train = []\n",
    "    y_test = []\n",
    "    for i in range(len(xs)):\n",
    "        x_tra, x_tes, y_tra, y_tes = train_test_split(xs[i], ys[i], test_size=0.2)\n",
    "        x_train.extend(x_tra)\n",
    "        y_train.extend(y_tra)\n",
    "        x_test.extend(x_tes)\n",
    "        y_test.extend(y_tes)\n",
    "        \n",
    "    return x_train, x_test, y_train, y_test\n",
    "\n",
    "half_size = int(len(x_yelp) / 2)\n",
    "\n",
    "xs = [x_yelp[:half_size], x_amazon[:half_size], x_imdb[:half_size]]\n",
    "ys = [y_yelp[:half_size], y_amazon[:half_size], y_imdb[:half_size]]\n",
    "x_train1, x_test1, y_train1, y_test1 = data_split(xs, ys)\n",
    "\n",
    "xs = [x_yelp[half_size:], x_amazon[half_size:], x_imdb[half_size:]]\n",
    "ys = [y_yelp[half_size:], y_amazon[half_size:], y_imdb[half_size:]]\n",
    "x_train2, x_test2, y_train2, y_test2 = data_split(xs, ys)\n",
    "\n",
    "print(\"data set 1:\", len(x_train1), len(x_test1), len(y_train1), len(y_test1))\n",
    "print(\"data set 2:\", len(x_train2), len(x_test2), len(y_train2), len(y_test2))"
   ]
  },
  {
   "cell_type": "markdown",
   "metadata": {},
   "source": [
    "## Bag of Words Model"
   ]
  },
  {
   "cell_type": "markdown",
   "metadata": {},
   "source": [
    "#### Use training set to build dictionary of unique words (bags)"
   ]
  },
  {
   "cell_type": "code",
   "execution_count": 51,
   "metadata": {},
   "outputs": [
    {
     "name": "stdout",
     "output_type": "stream",
     "text": [
      "bags num: 2206 ['wild', 'creamy', 'repres', 'friday', 'surv', 'retard', 'driv', 'ingredy', 'destin', 'sev']\n"
     ]
    }
   ],
   "source": [
    "def createBags(x):\n",
    "    bags = set()\n",
    "    for line in x:\n",
    "        bags |= set(line)\n",
    "    return list(bags)\n",
    "\n",
    "bags = createBags(x_train1)\n",
    "print(\"bags num:\", len(bags), bags[:10])"
   ]
  },
  {
   "cell_type": "markdown",
   "metadata": {},
   "source": [
    "#### Transform traning data and test data into bag of words model"
   ]
  },
  {
   "cell_type": "code",
   "execution_count": 60,
   "metadata": {},
   "outputs": [
    {
     "name": "stdout",
     "output_type": "stream",
     "text": [
      "[0, 0, 0, 0, 0, 0, 0, 0, 0, 0, 0, 0, 0, 0, 0, 0, 0, 0, 0, 0, 0, 0, 0, 0, 0, 0, 0, 0, 0, 0, 0, 0, 0, 0, 0, 0, 0, 0, 0, 0, 0, 0, 0, 0, 0, 0, 0, 0, 0, 0, 0, 0, 0, 0, 0, 0, 0, 0, 0, 0, 0, 0, 0, 0, 0, 0, 0, 0, 0, 0, 0, 0, 0, 0, 0, 0, 0, 0, 0, 0, 0, 0, 0, 0, 0, 0, 0, 0, 0, 0, 0, 0, 0, 0, 0, 0, 0, 0, 0, 0, 0, 0, 0, 0, 0, 0, 0, 0, 0, 0, 0, 0, 0, 0, 0, 0, 0, 0, 0, 0, 0, 0, 0, 0, 0, 0, 0, 0, 0, 0, 0, 0, 0, 0, 0, 0, 0, 0, 0, 0, 0, 0, 0, 0, 0, 0, 0, 0, 0, 0, 0, 0, 0, 0, 0, 0, 0, 0, 0, 0, 0, 0, 0, 0, 0, 0, 0, 0, 0, 0, 0, 0, 0, 0, 0, 0, 0, 0, 0, 0, 0, 0, 0, 0, 0, 0, 0, 0, 0, 0, 0, 0, 0, 0, 0, 0, 0, 0, 0, 0, 0, 0, 0, 0, 1, 0, 0, 0, 0, 0, 0, 0, 0, 0, 0, 0, 0, 0, 0, 0, 0, 0, 0, 0, 0, 0, 0, 0, 0, 0, 0, 0, 0, 0, 0, 0, 0, 0, 0, 0, 0, 0, 0, 0, 0, 0, 0, 0, 0, 0, 0, 0, 0, 0, 0, 0, 0, 0, 0, 0, 0, 0, 0, 0, 0, 0, 0, 0, 0, 0, 0, 0, 0, 0, 0, 0, 0, 0, 0, 0, 0, 0, 0, 0, 0, 0, 0, 0, 0, 0, 0, 0, 0, 0, 0, 0, 0, 0, 0, 0, 0, 0, 0, 0, 1, 0, 0, 0, 0, 0, 0, 0, 0, 0, 0, 0, 0, 0, 0, 0, 0, 0, 0, 0, 0, 0, 0, 0, 0, 0, 0, 0, 0, 0, 0, 0, 0, 0, 0, 0, 0, 0, 0, 0, 0, 0, 0, 0, 0, 0, 0, 0, 0, 0, 0, 0, 0, 0, 0, 0, 0, 0, 0, 0, 0, 0, 0, 0, 0, 0, 0, 0, 0, 0, 0, 0, 0, 0, 0, 0, 0, 0, 0, 0, 0, 0, 0, 0, 0, 0, 0, 0, 0, 0, 0, 0, 0, 0, 0, 0, 0, 0, 0, 0, 0, 0, 0, 0, 0, 0, 0, 0, 0, 0, 0, 0, 0, 0, 0, 0, 0, 0, 0, 0, 0, 0, 0, 0, 0, 0, 0, 0, 0, 0, 0, 0, 0, 0, 0, 0, 0, 0, 0, 0, 0, 0, 0, 0, 0, 0, 0, 0, 0, 0, 0, 0, 0, 0, 0, 0, 0, 0, 0, 0, 0, 0, 0, 0, 0, 0, 0, 0, 0, 0, 0, 0, 0, 0, 0, 0, 0, 0, 0, 0, 0, 0, 0, 0, 0, 0, 0, 0, 0, 0, 0, 0, 0, 0, 0, 0]\n"
     ]
    }
   ],
   "source": [
    "def bag_of_words(data, bags, bags_idx_map):\n",
    "    n = len(bags)\n",
    "    result = []\n",
    "    for line in data:\n",
    "        occurence = [0 for i in range(n)]\n",
    "        for word in line:\n",
    "            if word not in bags_idx_map: \n",
    "                continue\n",
    "            occurence[bags_idx_map[word]] += 1\n",
    "        result.append(occurence)\n",
    "    return result\n",
    "\n",
    "\n",
    "bags_idx_map = {}\n",
    "for i, word in enumerate(bags):\n",
    "    bags_idx_map[word] = i\n",
    "\n",
    "    \n",
    "train_x = bag_of_words(x_train1, bags, bags_idx_map)\n",
    "test_x = bag_of_words(x_test1, bags, bags_idx_map)\n",
    "\n",
    "\n",
    "print(train_x[0][:500])"
   ]
  },
  {
   "cell_type": "code",
   "execution_count": null,
   "metadata": {},
   "outputs": [],
   "source": []
  }
 ],
 "metadata": {
  "kernelspec": {
   "display_name": "Python 3",
   "language": "python",
   "name": "python3"
  },
  "language_info": {
   "codemirror_mode": {
    "name": "ipython",
    "version": 3
   },
   "file_extension": ".py",
   "mimetype": "text/x-python",
   "name": "python",
   "nbconvert_exporter": "python",
   "pygments_lexer": "ipython3",
   "version": "3.7.0"
  }
 },
 "nbformat": 4,
 "nbformat_minor": 2
}
